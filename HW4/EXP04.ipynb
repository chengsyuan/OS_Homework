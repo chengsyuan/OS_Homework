{
 "cells": [
  {
   "cell_type": "code",
   "execution_count": 1,
   "metadata": {},
   "outputs": [],
   "source": [
    "import numpy as np"
   ]
  },
  {
   "cell_type": "code",
   "execution_count": null,
   "metadata": {},
   "outputs": [],
   "source": []
  },
  {
   "cell_type": "code",
   "execution_count": 64,
   "metadata": {},
   "outputs": [
    {
     "data": {
      "text/plain": [
       "(array([856,  68, 286, 194,  43, 238, 581, 150, 477,  58]),\n",
       " array([856, 581, 477, 286, 238, 194, 150,  68,  58,  43]),\n",
       " array([856,  43,  58,  68, 150, 194, 238, 286, 477, 581]))"
      ]
     },
     "execution_count": 64,
     "metadata": {},
     "output_type": "execute_result"
    }
   ],
   "source": [
    "def genReqs(tot=1000, req_cnt=10):\n",
    "    return np.random.randint(tot, size=(req_cnt))\n",
    "\n",
    "def SSTF(v, reqs):\n",
    "    if len(reqs) == 1:\n",
    "        return np.hstack([v, reqs])\n",
    "    \n",
    "    dist = abs(reqs - v)\n",
    "    idx_next = np.argmin(dist)\n",
    "    v_next = reqs[idx_next]\n",
    "    reqs_next = np.hstack([reqs[:idx_next], reqs[idx_next+1:]])\n",
    "    \n",
    "    return np.hstack([v, SSTF(v_next, reqs_next)])\n",
    "\n",
    "def SCAN(v, reqs, flag=1): #1up 0down\n",
    "    reqs = np.array(sorted(reqs)).astype(np.int)\n",
    "    if len(reqs) == 1:\n",
    "        return np.hstack([v, reqs])\n",
    "    \n",
    "    dist = (reqs - v)\n",
    "    if flag==1:\n",
    "        dist[dist < 0] = 999999\n",
    "    else:\n",
    "        dist[dist > 0] = 999999\n",
    "    dist = abs(dist)\n",
    "        \n",
    "    idx_next = np.argmin(dist)\n",
    "    v_next = reqs[idx_next]\n",
    "    reqs_next = np.hstack([reqs[:idx_next], reqs[idx_next+1:]])\n",
    "    \n",
    "    if flag==1 and idx_next==len(dist)-1:\n",
    "        flag = 0\n",
    "    elif flag==0 and idx_next==0:\n",
    "        flag = 1\n",
    "        \n",
    "    return np.hstack([v, SCAN(v_next, reqs_next, flag)])\n",
    "\n",
    "reqs, SSTF(reqs[0], reqs[1:]), SCAN(reqs[0], reqs[1:])"
   ]
  },
  {
   "cell_type": "code",
   "execution_count": 99,
   "metadata": {},
   "outputs": [
    {
     "ename": "KeyboardInterrupt",
     "evalue": "",
     "output_type": "error",
     "traceback": [
      "\u001b[0;31m---------------------------------------------------------------------------\u001b[0m",
      "\u001b[0;31mKeyboardInterrupt\u001b[0m                         Traceback (most recent call last)",
      "\u001b[0;32m<ipython-input-99-5d74792dc218>\u001b[0m in \u001b[0;36m<module>\u001b[0;34m\u001b[0m\n\u001b[1;32m     61\u001b[0m         \u001b[0mbimpy\u001b[0m\u001b[0;34m.\u001b[0m\u001b[0mend\u001b[0m\u001b[0;34m(\u001b[0m\u001b[0;34m)\u001b[0m\u001b[0;34m\u001b[0m\u001b[0;34m\u001b[0m\u001b[0m\n\u001b[1;32m     62\u001b[0m \u001b[0;34m\u001b[0m\u001b[0m\n\u001b[0;32m---> 63\u001b[0;31m         \u001b[0mctx\u001b[0m\u001b[0;34m.\u001b[0m\u001b[0mrender\u001b[0m\u001b[0;34m(\u001b[0m\u001b[0;34m)\u001b[0m\u001b[0;34m\u001b[0m\u001b[0;34m\u001b[0m\u001b[0m\n\u001b[0m",
      "\u001b[0;31mKeyboardInterrupt\u001b[0m: "
     ]
    }
   ],
   "source": [
    "import bimpy\n",
    "import numpy as np\n",
    "\n",
    "ctx = bimpy.Context()\n",
    "ctx.init(800, 800, \"EXP04\")\n",
    "with ctx:\n",
    "        bimpy.themes.set_light_theme()\n",
    "DATA_POINTS = bimpy.Int(30)\n",
    "\n",
    "## data\n",
    "\n",
    "##\n",
    "\n",
    "while not ctx.should_close():\n",
    "        ctx.new_frame()\n",
    "\n",
    "        bimpy.set_next_window_pos(bimpy.Vec2(20, 20), bimpy.Condition.Once)\n",
    "        bimpy.set_next_window_size(bimpy.Vec2(600, 600), bimpy.Condition.Once)\n",
    "        bimpy.begin(\"Disk\")\n",
    "        bimpy.text(\"Response Time \\ Disk Position\")\n",
    "        \n",
    "        window_pos = bimpy.get_window_pos() + bimpy.Vec2(30, 30)\n",
    "        \n",
    "        last_point = None\n",
    "        for idx, v in enumerate(reqs):\n",
    "            point = bimpy.Vec2((v/1000*550), idx*10)\n",
    "            bimpy.add_circle_filled(window_pos + point, 5, 0xAF000000 + 0x4bb43c, 100)\n",
    "            if idx != 0:\n",
    "                bimpy.add_line(\n",
    "                        window_pos + last_point,\n",
    "                        window_pos + point,\n",
    "                        0xFFFF0000, 1)\n",
    "            last_point = point\n",
    "                \n",
    "        bimpy.end()\n",
    "\n",
    "        bimpy.set_next_window_pos(bimpy.Vec2(20, 630), bimpy.Condition.Once)\n",
    "        bimpy.set_next_window_size(bimpy.Vec2(600, 110), bimpy.Condition.Once)\n",
    "        bimpy.begin(\"Controls\")\n",
    "        \n",
    "        bimpy.text(\"Experiment4 Chengxuan Ying 201785071\")\n",
    "        bimpy.input_int(\"Req Counts\", DATA_POINTS)\n",
    "        if bimpy.button(\"Generate data\"):\n",
    "            reqs_ = genReqs(tot=1000, req_cnt=DATA_POINTS.value)\n",
    "            reqs = reqs_\n",
    "            \n",
    "        bimpy.same_line()\n",
    "        if bimpy.button(\"Orginal\"):\n",
    "            reqs = reqs_\n",
    "            \n",
    "        bimpy.same_line()\n",
    "        if bimpy.button(\"SSTF\"):\n",
    "            reqs = SSTF(reqs_[0], reqs_[1:])\n",
    "            \n",
    "        bimpy.same_line()\n",
    "        if bimpy.button(\"SCAN\"):\n",
    "            reqs = SCAN(reqs_[0], reqs_[1:])\n",
    "            \n",
    "        t = sum([abs(reqs[idx+1]-reqs[idx]) for idx in range(len(reqs)-1)])\n",
    "        bimpy.text(\"Access Cost:\" + str(t))\n",
    "        bimpy.end()\n",
    "\n",
    "        ctx.render()"
   ]
  },
  {
   "cell_type": "code",
   "execution_count": null,
   "metadata": {},
   "outputs": [],
   "source": []
  },
  {
   "cell_type": "code",
   "execution_count": null,
   "metadata": {},
   "outputs": [],
   "source": []
  }
 ],
 "metadata": {
  "kernelspec": {
   "display_name": "Python 3",
   "language": "python",
   "name": "python3"
  },
  "language_info": {
   "codemirror_mode": {
    "name": "ipython",
    "version": 3
   },
   "file_extension": ".py",
   "mimetype": "text/x-python",
   "name": "python",
   "nbconvert_exporter": "python",
   "pygments_lexer": "ipython3",
   "version": "3.7.7"
  }
 },
 "nbformat": 4,
 "nbformat_minor": 4
}
